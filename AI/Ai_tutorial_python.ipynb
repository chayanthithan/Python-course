{
  "nbformat": 4,
  "nbformat_minor": 0,
  "metadata": {
    "colab": {
      "provenance": [],
      "authorship_tag": "ABX9TyNl7Dw2Hvf6CAlMsgJaPcHe",
      "include_colab_link": true
    },
    "kernelspec": {
      "name": "python3",
      "display_name": "Python 3"
    },
    "language_info": {
      "name": "python"
    }
  },
  "cells": [
    {
      "cell_type": "markdown",
      "metadata": {
        "id": "view-in-github",
        "colab_type": "text"
      },
      "source": [
        "<a href=\"https://colab.research.google.com/github/chayanthithan/python-course/blob/main/Ai_tutorial_python.ipynb\" target=\"_parent\"><img src=\"https://colab.research.google.com/assets/colab-badge.svg\" alt=\"Open In Colab\"/></a>"
      ]
    },
    {
      "cell_type": "code",
      "execution_count": null,
      "metadata": {
        "colab": {
          "base_uri": "https://localhost:8080/"
        },
        "id": "TJ-2K75ukm1f",
        "outputId": "90b8e423-ccd3-4d3c-e2c4-ad5528295d06"
      },
      "outputs": [
        {
          "output_type": "stream",
          "name": "stdout",
          "text": [
            "Hello world\n"
          ]
        }
      ],
      "source": [
        "print('Hello world')"
      ]
    },
    {
      "cell_type": "code",
      "source": [
        "print(56)\n",
        "# to print integer"
      ],
      "metadata": {
        "colab": {
          "base_uri": "https://localhost:8080/"
        },
        "id": "TYcGareGl6FG",
        "outputId": "71cf5439-2be0-4412-cd0f-1f122217975c"
      },
      "execution_count": null,
      "outputs": [
        {
          "output_type": "stream",
          "name": "stdout",
          "text": [
            "56\n"
          ]
        }
      ]
    },
    {
      "cell_type": "code",
      "source": [
        "print(2.5)\n",
        "# to print float"
      ],
      "metadata": {
        "colab": {
          "base_uri": "https://localhost:8080/"
        },
        "id": "W6ZfvdeimKVQ",
        "outputId": "abdd97eb-9e9a-450a-941c-341327e28e4f"
      },
      "execution_count": null,
      "outputs": [
        {
          "output_type": "stream",
          "name": "stdout",
          "text": [
            "2.5\n"
          ]
        }
      ]
    },
    {
      "cell_type": "code",
      "source": [
        "print('Hello')\n",
        "# to print string"
      ],
      "metadata": {
        "colab": {
          "base_uri": "https://localhost:8080/"
        },
        "id": "6p-xlDdNmNQF",
        "outputId": "2a3f369c-7755-4507-9777-2aa5663e4f3e"
      },
      "execution_count": null,
      "outputs": [
        {
          "output_type": "stream",
          "name": "stdout",
          "text": [
            "Hello\n"
          ]
        }
      ]
    },
    {
      "cell_type": "code",
      "source": [],
      "metadata": {
        "id": "R2RBG1Qbmb_Y"
      },
      "execution_count": null,
      "outputs": []
    },
    {
      "cell_type": "code",
      "source": [
        "age=20\n",
        "print('i am ', age ,'years old')\n",
        "# ,(comma) used to concat"
      ],
      "metadata": {
        "colab": {
          "base_uri": "https://localhost:8080/"
        },
        "id": "m5vpe426mlwy",
        "outputId": "5a235346-56df-45cb-cddc-6e726961a685"
      },
      "execution_count": null,
      "outputs": [
        {
          "output_type": "stream",
          "name": "stdout",
          "text": [
            "i am  20 years old\n"
          ]
        }
      ]
    },
    {
      "cell_type": "code",
      "source": [
        "# variables\n",
        "# rules\n",
        "  # first letter can be _,letter\n",
        "  # number should not be at first\n",
        "\n"
      ],
      "metadata": {
        "id": "-XM02X0UnhzK"
      },
      "execution_count": null,
      "outputs": []
    },
    {
      "cell_type": "code",
      "source": [
        "height=59;\n",
        "weight=30;\n",
        "fist_name='chayankumar'"
      ],
      "metadata": {
        "id": "cKWt-FtwoDv2"
      },
      "execution_count": null,
      "outputs": []
    },
    {
      "cell_type": "code",
      "source": [
        "# data types\n",
        "# Boolean\n",
        "  # True\n",
        "  # False\n",
        "\n",
        "# List\n",
        "# list can be hold different data types\n",
        "# []\n",
        "numbers=[1,2,3.5,4,5]\n",
        "student_details=['chayan',28,59.5]\n",
        "print(numbers)\n",
        "print(student_details)\n",
        "\n",
        "# to add into list\n",
        "student_details.append('kumar')\n",
        "print(student_details)\n",
        "\n",
        "# to get particular index\n",
        "print('first name is',student_details[0])"
      ],
      "metadata": {
        "colab": {
          "base_uri": "https://localhost:8080/"
        },
        "id": "O9hwXiaEoQ19",
        "outputId": "b4d2a911-5b74-47d4-f2bb-f41c3241a959"
      },
      "execution_count": null,
      "outputs": [
        {
          "output_type": "stream",
          "name": "stdout",
          "text": [
            "[1, 2, 3.5, 4, 5]\n",
            "['chayan', 28, 59.5]\n",
            "['chayan', 28, 59.5, 'kumar']\n",
            "first name is chayan\n"
          ]
        }
      ]
    },
    {
      "cell_type": "code",
      "source": [
        "# tuple\n",
        "# it can't modify\n",
        "# it also can be store different type of data\n",
        "# ()\n",
        "\n",
        "\n",
        "# dictionary\n",
        "# Key and Value\n",
        "# {}\n",
        "details={'name':'chayan','age':24,'height':'6 feet'}\n",
        "print(details)\n",
        "# to get by key\n",
        "print('age:',details['age'])\n",
        "\n",
        "# to add new key value\n",
        "details['degree']='BICT'\n",
        "print(details)\n"
      ],
      "metadata": {
        "colab": {
          "base_uri": "https://localhost:8080/"
        },
        "id": "00Mn2Mmzq2fw",
        "outputId": "459d5955-e5f6-4bd7-9130-c85f317b0215"
      },
      "execution_count": null,
      "outputs": [
        {
          "output_type": "stream",
          "name": "stdout",
          "text": [
            "{'name': 'chayan', 'age': 24, 'height': '6 feet'}\n",
            "age: 24\n",
            "{'name': 'chayan', 'age': 24, 'height': '6 feet', 'degree': 'BICT'}\n"
          ]
        }
      ]
    },
    {
      "cell_type": "code",
      "source": [
        "# set\n",
        "names=('chayan','arun','jeyam','suresh')\n",
        "print(names)"
      ],
      "metadata": {
        "colab": {
          "base_uri": "https://localhost:8080/"
        },
        "id": "BGETFVrhpW5J",
        "outputId": "43d47b1b-1494-427c-8288-96ea4f300c08"
      },
      "execution_count": null,
      "outputs": [
        {
          "output_type": "stream",
          "name": "stdout",
          "text": [
            "('chayan', 'arun', 'jeyam', 'suresh')\n"
          ]
        }
      ]
    },
    {
      "cell_type": "code",
      "source": [
        "# condition statement\n",
        "age = 18\n",
        "if age >= 18:\n",
        "  print('eligible for vote')\n",
        "else:\n",
        "  print('not eligible for vote')\n"
      ],
      "metadata": {
        "colab": {
          "base_uri": "https://localhost:8080/"
        },
        "id": "JQ0OvGp4s7us",
        "outputId": "a6be0997-7fe4-4c43-d3db-f57c986bcc7b"
      },
      "execution_count": null,
      "outputs": [
        {
          "output_type": "stream",
          "name": "stdout",
          "text": [
            "eligible for vote\n"
          ]
        }
      ]
    },
    {
      "cell_type": "code",
      "source": [
        "# get input from user and print the result\n",
        "marks=int(input('Enter Marks Here : '));\n",
        "if marks >= 75:\n",
        "  print('Result: A')\n",
        "elif marks < 75 and marks >= 65:\n",
        "  print('Result: B')\n",
        "elif marks < 65 and marks >= 55:\n",
        "  print('Result: C')\n",
        "elif marks < 55 and marks >= 35:\n",
        "  print('Result: S')\n",
        "else:\n",
        "  print('Result: E')\n",
        "\n"
      ],
      "metadata": {
        "colab": {
          "base_uri": "https://localhost:8080/"
        },
        "id": "C0pj4SBKtX_b",
        "outputId": "e01471c9-4201-444a-e24b-faeca7c6db2e"
      },
      "execution_count": null,
      "outputs": [
        {
          "output_type": "stream",
          "name": "stdout",
          "text": [
            "Enter Marks Here : 89\n",
            "Result: A\n"
          ]
        }
      ]
    },
    {
      "cell_type": "code",
      "source": [
        "# for loop\n",
        "# for element in array_variable_name\n",
        "numbers=[1,2,3,4,56]\n",
        "for element in numbers:\n",
        "  print(element)\n",
        "\n",
        "for element in numbers:\n",
        "  if(element%2 == 0):\n",
        "    print('Even numbers')\n",
        "  else:\n",
        "    print('Odd numbers');"
      ],
      "metadata": {
        "colab": {
          "base_uri": "https://localhost:8080/"
        },
        "id": "jf5siTaYwSvd",
        "outputId": "dbd6aae8-6d66-4955-cf23-3d9715edb16d"
      },
      "execution_count": null,
      "outputs": [
        {
          "output_type": "stream",
          "name": "stdout",
          "text": [
            "1\n",
            "2\n",
            "3\n",
            "4\n",
            "56\n",
            "Odd numbers\n",
            "Even numbers\n",
            "Odd numbers\n",
            "Even numbers\n",
            "Even numbers\n"
          ]
        }
      ]
    },
    {
      "cell_type": "code",
      "source": [
        "lists=[23,45,32,56]\n",
        "for i in range(10,20): # value will be 10 to 19\n",
        "  print(i)"
      ],
      "metadata": {
        "colab": {
          "base_uri": "https://localhost:8080/"
        },
        "id": "AIXzGnMGyBR1",
        "outputId": "e7911cdf-1c91-49dd-f914-94e55b34548a"
      },
      "execution_count": null,
      "outputs": [
        {
          "output_type": "stream",
          "name": "stdout",
          "text": [
            "10\n",
            "11\n",
            "12\n",
            "13\n",
            "14\n",
            "15\n",
            "16\n",
            "17\n",
            "18\n",
            "19\n"
          ]
        }
      ]
    },
    {
      "cell_type": "code",
      "source": [
        "# while\n"
      ],
      "metadata": {
        "id": "37WxR9KjwNd5"
      },
      "execution_count": null,
      "outputs": []
    },
    {
      "cell_type": "code",
      "source": [],
      "metadata": {
        "id": "sQUlQ8ROomy7"
      },
      "execution_count": null,
      "outputs": []
    },
    {
      "cell_type": "code",
      "source": [],
      "metadata": {
        "id": "lVeWFjpBoDQs"
      },
      "execution_count": null,
      "outputs": []
    },
    {
      "cell_type": "code",
      "source": [],
      "metadata": {
        "id": "7WHqCr3lm55r"
      },
      "execution_count": null,
      "outputs": []
    }
  ]
}