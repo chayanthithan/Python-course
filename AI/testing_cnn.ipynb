{
  "nbformat": 4,
  "nbformat_minor": 0,
  "metadata": {
    "colab": {
      "provenance": []
    },
    "kernelspec": {
      "name": "python3",
      "display_name": "Python 3"
    },
    "language_info": {
      "name": "python"
    }
  },
  "cells": [
    {
      "cell_type": "code",
      "execution_count": null,
      "metadata": {
        "id": "-dRHMpwtOB6O"
      },
      "outputs": [],
      "source": [
        "import tensorflow as tf\n",
        "from tensorflow.keras.models import load_model\n",
        "from tensorflow.keras.preprocessing import image\n",
        "import numpy as np\n",
        "import matplotlib.pyplot as plt\n",
        "\n",
        "# Define custom objects to handle 'softmax_v2'\n",
        "custom_objects = {'softmax_v2': tf.keras.activations.softmax}  # Map 'softmax_v2' to the standard softmax\n",
        "\n",
        "# Load your trained model with custom objects\n",
        "model = tf.keras.models.load_model('/content/mnist_cnn.h5', custom_objects=custom_objects)\n",
        "input_shape = (28, 28, 1)\n"
      ]
    },
    {
      "cell_type": "code",
      "source": [
        "def preprocess_image(img_path, target_size):\n",
        "    # Load the image from the path, converting it to grayscale\n",
        "    img = image.load_img(img_path, target_size=target_size, color_mode='grayscale')\n",
        "\n",
        "    # Convert the image to an array\n",
        "    img_array = image.img_to_array(img)\n",
        "\n",
        "    # Normalize the image (rescale the pixel values to [0, 1])\n",
        "    img_array = img_array / 255.0\n",
        "\n",
        "    # Expand dimensions to fit the model's input shape (1, height, width, channels)\n",
        "    img_array = np.expand_dims(img_array, axis=0)\n",
        "\n",
        "    return img_array\n",
        "\n",
        "# Example: Specify the path to your image and the input shape of your model\n",
        "img_path = '/content/Untitled1.jpeg'\n",
        "target_size = (input_shape[0], input_shape[1])  # Example: (28, 28)\n",
        "\n",
        "# Preprocess the image\n",
        "processed_image = preprocess_image(img_path, target_size)"
      ],
      "metadata": {
        "id": "TanhcS55OIC9"
      },
      "execution_count": null,
      "outputs": []
    },
    {
      "cell_type": "code",
      "source": [
        "# Predict the class of the image\n",
        "predictions = model.predict(processed_image)\n",
        "\n",
        "# Get the class with the highest probability\n",
        "predicted_class = np.argmax(predictions, axis=1)\n",
        "\n",
        "# Print the predicted class\n",
        "print(f'Predicted class: {predicted_class[0]}')\n",
        "\n",
        "# If you have class labels, you can print the label\n",
        "# class_labels = ['Class1', 'Class2', ..., 'Class10']  # Replace with your actual class labels\n",
        "# print(f'Predicted class label: {class_labels[predicted_class[0]]}')\n"
      ],
      "metadata": {
        "id": "eBJeNEI-OTDB"
      },
      "execution_count": null,
      "outputs": []
    }
  ]
}